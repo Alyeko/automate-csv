{
 "cells": [
  {
   "cell_type": "code",
   "execution_count": 5,
   "metadata": {},
   "outputs": [],
   "source": [
    "import pandas as pd, os, time\n",
    "filepath = os.getcwd()\n",
    "def automate_csv(filepath):\n",
    "    n=1\n",
    "    for i in [csv for csv in os.listdir(filepath) if csv.endswith('.csv')]:\n",
    "        csv_read = pd.read_csv(i, header=None) #1. read csv\n",
    "    \n",
    "        refrow2drop = csv_read[csv_read[4].str.contains('REF') == True].index.to_list()[0] #assumes the exact words 'REF'\n",
    "        clorow2drop = csv_read[csv_read[4].str.contains('CLO') == True].index.to_list()[0] #assumes the exact words 'CLO'\n",
    "    \n",
    "        csv_read.drop([refrow2drop, clorow2drop], inplace=True) #2. Drop refrow and clorow\n",
    "            \n",
    "        csv_read.drop([3, 4], axis=1, inplace=True) #3. drop unwanted columns -height column and label(REF and CLO)\n",
    "        \n",
    "        csv_read.sort_values(by=[0], ascending=True, inplace=True) #4. sort by name, which is the regional number\n",
    "    \n",
    "        csv_read.to_csv(f\"CSV{n}.csv\", header=None, index=False) #5. overwrite csv and save in filepath\n",
    "    \n",
    "        n+=1\n",
    "    return 'all done'"
   ]
  },
  {
   "cell_type": "code",
   "execution_count": 6,
   "metadata": {},
   "outputs": [
    {
     "data": {
      "text/plain": [
       "'all done'"
      ]
     },
     "execution_count": 6,
     "metadata": {},
     "output_type": "execute_result"
    }
   ],
   "source": [
    "automate_csv(filepath)"
   ]
  },
  {
   "cell_type": "code",
   "execution_count": null,
   "metadata": {},
   "outputs": [],
   "source": []
  }
 ],
 "metadata": {
  "kernelspec": {
   "display_name": "Python 3",
   "language": "python",
   "name": "python3"
  },
  "language_info": {
   "codemirror_mode": {
    "name": "ipython",
    "version": 3
   },
   "file_extension": ".py",
   "mimetype": "text/x-python",
   "name": "python",
   "nbconvert_exporter": "python",
   "pygments_lexer": "ipython3",
   "version": "3.7.3"
  }
 },
 "nbformat": 4,
 "nbformat_minor": 4
}
